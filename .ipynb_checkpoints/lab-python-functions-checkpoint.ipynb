{
 "cells": [
  {
   "cell_type": "markdown",
   "id": "25d7736c-ba17-4aff-b6bb-66eba20fbf4e",
   "metadata": {},
   "source": [
    "# Lab | Functions"
   ]
  },
  {
   "cell_type": "markdown",
   "id": "0c581062-8967-4d93-b06e-62833222f930",
   "metadata": {
    "tags": []
   },
   "source": [
    "## Exercise: Managing Customer Orders with Functions\n",
    "\n",
    "In the previous exercise, you improved the code for managing customer orders by using loops and flow control. Now, let's take it a step further and refactor the code by introducing functions.\n",
    "\n",
    "Follow the steps below to complete the exercise:\n",
    "\n",
    "1. Define a function named `initialize_inventory` that takes `products` as a parameter. Inside the function, implement the code for initializing the inventory dictionary using a loop and user input.\n",
    "\n",
    "2. Define a function named `get_customer_orders` that takes no parameters. Inside the function, implement the code for prompting the user to enter the product names using a loop. The function should return the `customer_orders` set.\n",
    "\n",
    "3. Define a function named `update_inventory` that takes `customer_orders` and `inventory` as parameters. Inside the function, implement the code for updating the inventory dictionary based on the customer orders.\n",
    "\n",
    "4. Define a function named `calculate_order_statistics` that takes `customer_orders` and `products` as parameters. Inside the function, implement the code for calculating the order statistics (total products ordered, and percentage of unique products ordered). The function should return these values.\n",
    "\n",
    "5. Define a function named `print_order_statistics` that takes `order_statistics` as a parameter. Inside the function, implement the code for printing the order statistics.\n",
    "\n",
    "6. Define a function named `print_updated_inventory` that takes `inventory` as a parameter. Inside the function, implement the code for printing the updated inventory.\n",
    "\n",
    "7. Call the functions in the appropriate sequence to execute the program and manage customer orders.\n",
    "\n",
    "Hints for functions:\n",
    "\n",
    "- Consider the input parameters required for each function and their return values.\n",
    "- Utilize function parameters and return values to transfer data between functions.\n",
    "- Test your functions individually to ensure they work correctly.\n",
    "\n",
    "\n"
   ]
  },
  {
   "cell_type": "code",
   "execution_count": 20,
   "id": "62026930-b5cf-4a83-b023-dfe34436f996",
   "metadata": {},
   "outputs": [
    {
     "name": "stdin",
     "output_type": "stream",
     "text": [
      "How many books do we have? 50\n",
      "Do you want to add another product? Yes/No no\n",
      "What is the name of the product you want to order? book\n",
      "Do you want to order another product? Yes/No no\n"
     ]
    },
    {
     "name": "stdout",
     "output_type": "stream",
     "text": [
      "Total products ordered: 1\n",
      "Percentage of products ordered: 2.0408163265306123\n"
     ]
    }
   ],
   "source": [
    "#Define a function named initialize_inventory that takes products as a parameter. Inside the function, implement the code for initializing the inventory dictionary using a loop and user input.\n",
    "\n",
    "def initialize_inventory(product):\n",
    "    \"\"\"\n",
    "    First create the inventory. Then check what is the quantity of the product and add it to the inventory. Then enable user to add more products until they are done.\n",
    "    \"\"\"\n",
    "    inventory = {}\n",
    "    quantity = int(input(f\"How many {product}s do we have?\"))\n",
    "    inventory[product] = quantity\n",
    "    next_step = input(\"Do you want to add another product? Yes/No\").strip().lower()\n",
    "    while next_step == \"yes\":\n",
    "        product = input(\"What is the product name?\")\n",
    "        quantity = int(input(f\"How many {product}s do we have?\"))\n",
    "        inventory[product] = quantity\n",
    "        next_step = input(\"Do you want to add another product? Yes/No\")\n",
    "        if next_step != \"yes\":\n",
    "            break\n",
    "\n",
    "    return inventory\n",
    "\n",
    "\n",
    "\n",
    "\n",
    "#Define a function named get_customer_orders that takes no parameters. Inside the function, implement the code for prompting the user to enter the product names using a loop. The function should return the customer_orders set.\n",
    " \n",
    "def get_customer_orders():\n",
    "    \"\"\"\n",
    "    First create the set. Then ask the user to add a product and repeat until they are done. Return the set of products added.\n",
    "    \"\"\"\n",
    "    customer_orders = set()\n",
    "    product = input(\"What is the name of the product you want to order?\")\n",
    "    customer_orders.add(product)\n",
    "    next_step = input(\"Do you want to order another product? Yes/No\").strip().lower()\n",
    "    while next_step == \"yes\":\n",
    "        product = input(\"What is the name of the product you want to order?\")\n",
    "        customer_orders.add(product)\n",
    "        next_step = input(\"Do you want to add another product? Yes/No\")\n",
    "        \n",
    "        if next_step != \"yes\":\n",
    "            break\n",
    "        \n",
    "\n",
    "    return customer_orders\n",
    "\n",
    "#Define a function named update_inventory that takes customer_orders and inventory as parameters. Inside the function, implement the code for updating the inventory dictionary based on the customer orders.\n",
    "\n",
    "def update_inventory(customer_orders, inventory):\n",
    "    for products in customer_orders:\n",
    "        if products in customer_orders:\n",
    "            inventory[products] -= 1 \n",
    "            return inventory\n",
    "        else:\n",
    "            print(\"Product not found.\")\n",
    "\n",
    "#Define a function named calculate_order_statistics that takes customer_orders and products as parameters. Inside the function, implement the code for calculating the order statistics (total products ordered, and percentage of unique products ordered). The function should return these values.\n",
    "\n",
    "def calculate_order_statistics(customer_orders, product, inventory):\n",
    "    #Total Products Ordered: The total number of products in the customer_orders set.\n",
    "    \n",
    "    total_products_ordered = len(customer_orders)\n",
    "    unique_products_ordered = 0\n",
    "    total_unique_products = inventory[product]\n",
    "    for product in customer_orders:\n",
    "        unique_products_ordered += 1\n",
    "    #Percentage of Products Ordered: The percentage of products ordered compared to the total available products.\n",
    "\n",
    "    for product in customer_orders:\n",
    "        percentage_of_product_ordered = (total_products_ordered/total_unique_products) * 100\n",
    "\n",
    "    order_statistics = [total_products_ordered, percentage_of_product_ordered]\n",
    "\n",
    "    return order_statistics\n",
    "\n",
    "# Define a function named print_order_statistics that takes order_statistics as a parameter. Inside the function, implement the code for printing the order statistics.d\n",
    "def print_order_statistics(order_statistics):\n",
    "    print(f\"Total products ordered: {order_statistics[0]}\")\n",
    "    print(f\"Percentage of products ordered: {order_statistics[1]}\")\n",
    "\n",
    "#Define a function named print_updated_inventory that takes inventory as a parameter. Inside the function, implement the code for printing the updated inventory.\n",
    "\n",
    "def print_updated_inventory(inventory):\n",
    "    print(inventory)\n",
    "    return inventory\n",
    "\n",
    "#test\n",
    "inventory = initialize_inventory(\"book\")\n",
    "customer_orders = get_customer_orders()\n",
    "updated_inventory = update_inventory(customer_orders, inventory)\n",
    "product = \"book\"\n",
    "order_stats = calculate_order_statistics(customer_orders, product, inventory)\n",
    "    \n",
    "print_order_statistics(order_stats)\n"
   ]
  }
 ],
 "metadata": {
  "kernelspec": {
   "display_name": "Python 3 (ipykernel)",
   "language": "python",
   "name": "python3"
  },
  "language_info": {
   "codemirror_mode": {
    "name": "ipython",
    "version": 3
   },
   "file_extension": ".py",
   "mimetype": "text/x-python",
   "name": "python",
   "nbconvert_exporter": "python",
   "pygments_lexer": "ipython3",
   "version": "3.11.7"
  }
 },
 "nbformat": 4,
 "nbformat_minor": 5
}
